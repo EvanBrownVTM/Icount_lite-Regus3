{
 "cells": [
  {
   "cell_type": "code",
   "execution_count": 1,
   "metadata": {},
   "outputs": [],
   "source": [
    "import json\n",
    "import pickle\n",
    "from datetime import datetime\n",
    "\n",
    "cv_activities = [{'class_id': 1, 'action': 'PICK', 'timestamp': '2023-03-15:11:28:53'}, {'class_id': 1, 'action': 'PICK', 'timestamp': '2023-03-15:11:28:53', 'active_zone': 'all_shelves'}, {'class_id': 1, 'action': 'PICK', 'timestamp': '2023-03-15:11:29:50'}]\n",
    "with open('archive/0443ee5c-5dda-4b68-93f3-b5bc80a18186/ls_activities.pickle', 'rb') as f:\n",
    "    ls_activities = pickle.load(f)"
   ]
  },
  {
   "cell_type": "code",
   "execution_count": 2,
   "metadata": {},
   "outputs": [
    {
     "ename": "SyntaxError",
     "evalue": "invalid syntax (<ipython-input-2-00466126a4b2>, line 1)",
     "output_type": "error",
     "traceback": [
      "\u001b[0;36m  File \u001b[0;32m\"<ipython-input-2-00466126a4b2>\"\u001b[0;36m, line \u001b[0;32m1\u001b[0m\n\u001b[0;31m    datetime.strptime(, \"%Y-%m-%d:%H:%M:%S\")\u001b[0m\n\u001b[0m                      ^\u001b[0m\n\u001b[0;31mSyntaxError\u001b[0m\u001b[0;31m:\u001b[0m invalid syntax\n"
     ]
    }
   ],
   "source": [
    "datetime.strptime(, \"%Y-%m-%d:%H:%M:%S\")"
   ]
  },
  {
   "cell_type": "code",
   "execution_count": 3,
   "metadata": {},
   "outputs": [],
   "source": [
    "def get_earliest_ls_activity_timestamp(ls_activities):\n",
    "    earliest_activity_timestamp = None\n",
    "    user_activities = ls_activities['user_activity_instance']['user_activities']\n",
    "    for user_activity in user_activities:\n",
    "        timestamp = user_activity['activity_time']\n",
    "        if earliest_activity_timestamp is None or datetime.strptime(earliest_activity_timestamp, \"%Y-%m-%d:%H:%M:%S\") > datetime.strptime(timestamp, \"%Y-%m-%d:%H:%M:%S\"):\n",
    "            earliest_activity_timestamp = timestamp\n",
    "    return earliest_activity_timestamp\n",
    "\n",
    "earliest_ls_activity_timestamp = get_earliest_ls_activity_timestamp(ls_activities)"
   ]
  },
  {
   "cell_type": "code",
   "execution_count": null,
   "metadata": {},
   "outputs": [
    {
     "data": {
      "text/plain": [
       "'2023-03-15:11:28:53'"
      ]
     },
     "execution_count": 24,
     "metadata": {},
     "output_type": "execute_result"
    }
   ],
   "source": [
    "def get_earliest_cv_activity_timestamp(cv_activities):\n",
    "    earliest_activity_timestamp = None\n",
    "    for activity in cv_activities:\n",
    "        timestamp = activity['timestamp']\n",
    "        if earliest_activity_timestamp is None or datetime.strptime(earliest_activity_timestamp, \"%Y-%m-%d:%H:%M:%S\") > datetime.strptime(timestamp, \"%Y-%m-%d:%H:%M:%S\"):\n",
    "            earliest_activity_timestamp = timestamp\n",
    "    return earliest_activity_timestamp\n",
    "\n",
    "earliest_cv_activity_timestamp = get_earliest_cv_activity_timestamp(cv_activities)"
   ]
  },
  {
   "cell_type": "code",
   "execution_count": null,
   "metadata": {},
   "outputs": [
    {
     "data": {
      "text/plain": [
       "[{'class_id': 1, 'action': 'PICK', 'timestamp': '2023-03-29:06:05:49'},\n",
       " {'class_id': 1,\n",
       "  'action': 'PICK',\n",
       "  'timestamp': '2023-03-29:06:05:49',\n",
       "  'active_zone': 'all_shelves'},\n",
       " {'class_id': 1, 'action': 'PICK', 'timestamp': '2023-03-29:06:06:46'}]"
      ]
     },
     "execution_count": 40,
     "metadata": {},
     "output_type": "execute_result"
    }
   ],
   "source": [
    "def adjust_cv_activities_timestamps(cv_activities, ls_activities):\n",
    "    earliest_cv_activity_timestamp = get_earliest_cv_activity_timestamp(cv_activities)\n",
    "    earliest_ls_activity_timestamp = get_earliest_ls_activity_timestamp(ls_activities)\n",
    "    cv_ls_time_difference = datetime.strptime(earliest_ls_activity_timestamp, \"%Y-%m-%d:%H:%M:%S\") - datetime.strptime(earliest_cv_activity_timestamp, \"%Y-%m-%d:%H:%M:%S\")\n",
    "\n",
    "    for activity in cv_activities:\n",
    "        activity_time = datetime.strptime(activity['timestamp'], \"%Y-%m-%d:%H:%M:%S\")\n",
    "        activity_time -= cv_ls_time_difference\n",
    "        activity['timestamp'] = datetime.strftime(activity_time, \"%Y-%m-%d:%H:%M:%S\")\n",
    "\n",
    "adjust_cv_activities_timestamps(cv_activities, ls_activities)\n",
    "cv_activities "
   ]
  }
 ],
 "metadata": {
  "kernelspec": {
   "display_name": "Python 3.6.15 64-bit",
   "language": "python",
   "name": "python3"
  },
  "language_info": {
   "codemirror_mode": {
    "name": "ipython",
    "version": 3
   },
   "file_extension": ".py",
   "mimetype": "text/x-python",
   "name": "python",
   "nbconvert_exporter": "python",
   "pygments_lexer": "ipython3",
   "version": "3.6.15"
  },
  "orig_nbformat": 4,
  "vscode": {
   "interpreter": {
    "hash": "30295c5bec572e859485b1ffa5e89b8b3e2022ef6e3e739c1ac40f143a557caf"
   }
  }
 },
 "nbformat": 4,
 "nbformat_minor": 2
}
